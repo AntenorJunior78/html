{
 "cells": [
  {
   "cell_type": "code",
   "execution_count": 7,
   "id": "be8ea25d",
   "metadata": {},
   "outputs": [],
   "source": [
    "import os\n",
    "import csv\n",
    "from datetime import datetime\n",
    "\n",
    "def run():\n",
    "\n",
    "    def criar_pasta(caminho):\n",
    "        try:\n",
    "            os.makedirs(caminho)\n",
    "        except FileExistsError:\n",
    "            print(\"A pasta já existe.\")\n",
    "        except Exception as e:\n",
    "            print(f\"Erro ao criar a pasta: {str(e)}\")\n",
    "\n",
    "    def salvar_arquivo(destino, nome_arquivo, conteudo):\n",
    "        try:\n",
    "            with open(os.path.join(destino, nome_arquivo), 'w', newline='') as arquivo:\n",
    "                writer = csv.writer(arquivo)\n",
    "                writer.writerows(conteudo)\n",
    "            print(f\"Arquivo salvo em {os.path.join(destino, nome_arquivo)}\")\n",
    "        except Exception as e:\n",
    "            print(f\"Erro ao salvar o arquivo: {str(e)}\")\n",
    "\n",
    "    def ler_arquivo_csv(caminho):\n",
    "        try:\n",
    "            with open(caminho, 'r') as arquivo:\n",
    "                leitor = csv.reader(arquivo)\n",
    "                conteudo = list(leitor)\n",
    "            return conteudo\n",
    "        except Exception as e:\n",
    "            print(f\"Erro ao ler o arquivo: {str(e)}\")\n",
    "            return None\n",
    "\n",
    "    def main():\n",
    "        caminho_arquivo = 'C:/Users/ON/Desktop/GuitHub/gitHub_2/src/examples/dc-2d/syscal.csv'  # Coloque aqui o caminho do arquivo CSV\n",
    "        nome_arquivo = os.path.basename(caminho_arquivo)\n",
    "        data_hora_atual = datetime.now().strftime(\"%Y%m%d_%H%M%S\")\n",
    "        nome_pasta = f\"{nome_arquivo}_{data_hora_atual}\"\n",
    "        caminho_pasta = os.path.join(os.path.dirname(caminho_arquivo), nome_pasta)\n",
    "\n",
    "        criar_pasta(caminho_pasta)\n",
    "        conteudo_csv = ler_arquivo_csv(caminho_arquivo)\n",
    "        if conteudo_csv is not None:\n",
    "            salvar_arquivo(caminho_pasta, nome_arquivo, conteudo_csv)\n",
    "\n",
    "    if __name__ == \"__main__\":\n",
    "        main()\n",
    "\n",
    "\n"
   ]
  },
  {
   "cell_type": "code",
   "execution_count": null,
   "id": "7374e743",
   "metadata": {},
   "outputs": [],
   "source": []
  }
 ],
 "metadata": {
  "kernelspec": {
   "display_name": "Python 3 (ipykernel)",
   "language": "python",
   "name": "python3"
  },
  "language_info": {
   "codemirror_mode": {
    "name": "ipython",
    "version": 3
   },
   "file_extension": ".py",
   "mimetype": "text/x-python",
   "name": "python",
   "nbconvert_exporter": "python",
   "pygments_lexer": "ipython3",
   "version": "3.9.12"
  }
 },
 "nbformat": 4,
 "nbformat_minor": 5
}
