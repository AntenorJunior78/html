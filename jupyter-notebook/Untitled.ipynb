{
 "cells": [
  {
   "cell_type": "code",
   "execution_count": 30,
   "id": "be8ea25d",
   "metadata": {
    "scrolled": false
   },
   "outputs": [
    {
     "name": "stdout",
     "output_type": "stream",
     "text": [
      "Working directory is: C:\\Users\\ON\\anaconda3\\lib\\site-packages\\resipy\n",
      "clearing dirname\n",
      "308/344 reciprocal measurements found.\n",
      "0 measurements error > 20 %\n",
      "Creating triangular mesh...done (1928 elements)\n",
      "Writing .in file and protocol.dat... done\n",
      "\n",
      "--------------------- MAIN INVERSION ------------------\n",
      "\n",
      "\n",
      " >> R  2    R e s i s t i v i t y   I n v e r s i o n   v4.02 <<\n",
      "\n",
      " >> D a t e : 17 - 07 - 2023\n",
      " >> My beautiful survey                                                             \n",
      " >> I n v e r s e   S o l u t i o n   S e l e c t e d <<\n",
      " >> Determining storage needed for finite element conductance matrix\n",
      " >> Generating index array for finite element conductance matrix\n",
      " >> Reading start resistivity from res0.dat                      \n",
      " >> R e g u l a r i s e d   T y p e <<\n",
      " >>   L i n e a r    F i l t e r    <<\n",
      " >> L o g - D a t a   I n v e r s i o n <<\n",
      " >> N o r m a l   R e g u l a r i s a t i o n <<\n",
      " >> D a t a   w e i g h t s   w i l l   b e  m o d i f i e d <<\n",
      "\n",
      "\n",
      " Processing dataset   1\n",
      "\n",
      "\n",
      " Measurements read:   190     Measurements rejected:     0\n",
      "   Geometric mean of apparent resistivities:  0.52987E+02\n",
      "\n",
      " >> Total Memory required is:          0.020 Gb\n",
      "\n",
      "   Iteration   1\n",
      "     Initial RMS Misfit:        28.72       Number of data ignored:     0\n",
      "     Alpha:         408.075   RMS Misfit:        1.94  Roughness:        1.992\n",
      "     Alpha:         189.412   RMS Misfit:        1.52  Roughness:        2.951\n",
      "     Alpha:          87.917   RMS Misfit:        1.20  Roughness:        4.151\n",
      "     Alpha:          40.807   RMS Misfit:        0.99  Roughness:        5.615\n",
      "     Step length set to   1.00000\n",
      "     Final RMS Misfit:        0.99\n",
      "\n",
      " Cannot fit quadratic through step lengths\n",
      "     Final RMS Misfit:        0.99\n",
      "\n",
      " Solution converged - Outputing results to file\n",
      "\n",
      " Calculating sensitivity map\n",
      "\n",
      "\n",
      " Processing dataset   2\n",
      "\n",
      "\n",
      " End of data:  Terminating\n",
      "1/1 results parsed (1 ok; 0 failed)\n"
     ]
    },
    {
     "data": {
      "image/png": "[encoded data removed]",
      "text/plain": [
       "<Figure size 1008x576 with 2 Axes>"
      ]
     },
     "metadata": {
      "needs_background": "light"
     },
     "output_type": "display_data"
    }
   ],
   "source": [
    "import matplotlib.pyplot as plt\n",
    "from matplotlib.backends.backend_agg import FigureCanvasAgg as FigureCanvas\n",
    "import warnings\n",
    "warnings.filterwarnings('ignore')\n",
    "import os\n",
    "import sys\n",
    "sys.path.append((os.path.relpath('../src'))) # adicione aqui o caminho relativo da pasta API\n",
    "testdir = '../src/examples/dc-2d/'\n",
    "from resipy import Project\n",
    "\n",
    "k = Project(typ='R2') # criar um objeto Project em um diretório de trabalho (também pode ser definido usando k.setwd())\n",
    "k.createSurvey(testdir + 'syscal.csv', ftype='Syscal') # ler o arquivo de levantamento\n",
    "\n",
    "k.invert() # realizar a inversão\n",
    "\n",
    "# Criar uma figura e um eixo para o gráfico\n",
    "fig, ax = plt.subplots(figsize=(14, 8))\n",
    "\n",
    "# Executar k.showPseudo() e plotar o gráfico\n",
    "k.showResults(attr='Resistivity(ohm.m)', sens=False, contour=True, vmin=30, vmax=100, ax=ax)\n",
    "\n",
    "# Criar o widget de canvas\n",
    "canvas = FigureCanvas(fig)\n",
    "canvas.draw()\n",
    "\n",
    "# Pasta de destino para salvar a imagem\n",
    "pasta_destino = \"C:\\\\Users\\\\ON\\\\Desktop\\\\TESTE\"  # Substitua pelo caminho da pasta desejada\n",
    "\n",
    "# Verificar se a pasta de destino existe, caso contrário, criar\n",
    "if not os.path.exists(pasta_destino):\n",
    "    os.makedirs(pasta_destino)\n",
    "\n",
    "# Caminho completo para o arquivo de imagem\n",
    "caminho_imagem = os.path.join(pasta_destino, \"nome_do_arquivo2.png\")  # Substitua pelo nome do arquivo desejado\n",
    "\n",
    "# Salvar o canvas como uma imagem PNG na pasta de destino\n",
    "fig.savefig(caminho_imagem, format=\"png\")\n",
    "\n",
    "\n",
    "\n",
    "\n",
    "\n",
    "\n"
   ]
  },
  {
   "cell_type": "code",
   "execution_count": null,
   "id": "7374e743",
   "metadata": {},
   "outputs": [],
   "source": []
  }
 ],
 "metadata": {
  "kernelspec": {
   "display_name": "Python 3 (ipykernel)",
   "language": "python",
   "name": "python3"
  },
  "language_info": {
   "codemirror_mode": {
    "name": "ipython",
    "version": 3
   },
   "file_extension": ".py",
   "mimetype": "text/x-python",
   "name": "python",
   "nbconvert_exporter": "python",
   "pygments_lexer": "ipython3",
   "version": "3.9.12"
  }
 },
 "nbformat": 4,
 "nbformat_minor": 5
}
